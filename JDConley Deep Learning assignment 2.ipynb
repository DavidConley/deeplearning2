{
 "cells": [
  {
   "cell_type": "code",
   "execution_count": 33,
   "id": "c816a007",
   "metadata": {},
   "outputs": [
    {
     "data": {
      "text/plain": [
       "'1. Write a program that takes two strings from the user: first_name, last_name. Pass these variables to \\nfullname function that should return the (full name).\\no For example:\\n▪ First_name = “your first name”, last_name = “your last name”\\n▪ Full_name = “your full name”\\no Write function named “string_alternative” that returns every other char in the full_name string.\\nStr = “Good evening”\\nOutput: Go vnn\\nNote: You need to create a function named “string_alternative” for this program and call it from \\nmain function.\\n2. Write a python program to find the wordcount in a file (input.txt) for each line and then print the output.\\no Finally store the output in output.txt file.\\n Example:\\nInput: a file includes two lines:\\n Python Course\\n Deep Learning Course \\n Output:\\nPython Course\\n Deep Learning Course \\nWord_Count:\\n Python: 1\\nCourse: 2\\nDeep: 1\\nLearning: 1\\n3. Write a program, which reads heights (inches.) customers into a list and convert these heights to \\ncentimeters in a separate list using:\\n1) Nested Interactive loop.\\n2) List comprehensions\\nExample: L1: [150,155, 145, 148]\\nOutput: [68.03, 70.3, 65.77, 67.13]\\n** Follow the IPC rubric guidelines.\\nSubmission Guidelines:\\n1. Once finished present your work during class time.\\n2. Once evaluated submit your source code and documentation to GitHub and represent the work in a \\nReadMe file properly (short summary for the ICP).\\nAfter class submission:\\n1. Complete your work and submit to your repo before the deadline.\\n2. Record a short video (1~3) minute, explaining the technical part and method used.\\n3. Add video link to ReadMe file.\\n'"
      ]
     },
     "execution_count": 33,
     "metadata": {},
     "output_type": "execute_result"
    }
   ],
   "source": [
    "\n",
    "\"\"\"1. Write a program that takes two strings from the user: first_name, last_name. Pass these variables to \n",
    "fullname function that should return the (full name).\n",
    "o For example:\n",
    "▪ First_name = “your first name”, last_name = “your last name”\n",
    "▪ Full_name = “your full name”\n",
    "o Write function named “string_alternative” that returns every other char in the full_name string.\n",
    "Str = “Good evening”\n",
    "Output: Go vnn\n",
    "Note: You need to create a function named “string_alternative” for this program and call it from \n",
    "main function.\n",
    "2. Write a python program to find the wordcount in a file (input.txt) for each line and then print the output.\n",
    "o Finally store the output in output.txt file.\n",
    " Example:\n",
    "Input: a file includes two lines:\n",
    " Python Course\n",
    " Deep Learning Course \n",
    " Output:\n",
    "Python Course\n",
    " Deep Learning Course \n",
    "Word_Count:\n",
    " Python: 1\n",
    "Course: 2\n",
    "Deep: 1\n",
    "Learning: 1\n",
    "3. Write a program, which reads heights (inches.) customers into a list and convert these heights to \n",
    "centimeters in a separate list using:\n",
    "1) Nested Interactive loop.\n",
    "2) List comprehensions\n",
    "Example: L1: [150,155, 145, 148]\n",
    "Output: [68.03, 70.3, 65.77, 67.13]\n",
    "** Follow the IPC rubric guidelines.\n",
    "Submission Guidelines:\n",
    "1. Once finished present your work during class time.\n",
    "2. Once evaluated submit your source code and documentation to GitHub and represent the work in a \n",
    "ReadMe file properly (short summary for the ICP).\n",
    "After class submission:\n",
    "1. Complete your work and submit to your repo before the deadline.\n",
    "2. Record a short video (1~3) minute, explaining the technical part and method used.\n",
    "3. Add video link to ReadMe file.\n",
    "\"\"\""
   ]
  },
  {
   "cell_type": "code",
   "execution_count": 34,
   "id": "9ad0f466",
   "metadata": {},
   "outputs": [
    {
     "name": "stdout",
     "output_type": "stream",
     "text": [
      "Input first name and last name separately\n",
      "David\n",
      "Conley\n",
      "David Conley\n"
     ]
    },
    {
     "data": {
      "text/plain": [
       "'DvdCne'"
      ]
     },
     "execution_count": 34,
     "metadata": {},
     "output_type": "execute_result"
    }
   ],
   "source": [
    "#1. Write a program that takes two strings from the user: first_name, last_name. Pass these variables to fullname function that should return the (full name).\n",
    "#o For example:\n",
    "#▪ First_name = “your first name”, last_name = “your last name”\n",
    "#▪ Full_name = “your full name”\n",
    "#o Write function named “string_alternative” that returns every other char in the full_name string.\n",
    "#Str = “Good evening”\n",
    "#Output: Go vnn\n",
    "#Note: You need to create a function named “string_alternative” for this program and call it from main function\n",
    "\n",
    "def string_alternative(var1):\n",
    "    return var1[::2]\n",
    "\n",
    "print(\"Input first name and last name separately\")\n",
    "first_name = input()\n",
    "last_name = input()\n",
    "full_name=(first_name + \" \" + last_name)\n",
    "print(full_name)\n",
    "string_alternative(full_name)"
   ]
  },
  {
   "cell_type": "code",
   "execution_count": 35,
   "id": "62a0bf87",
   "metadata": {},
   "outputs": [
    {
     "name": "stdout",
     "output_type": "stream",
     "text": [
      "Python, 1\n",
      "Course, 2\n",
      "Deep, 1\n",
      "Learning, 1\n"
     ]
    }
   ],
   "source": [
    "#2. Write a python program to find the wordcount in a file (input.txt) for each line and then print the output.\n",
    "#o Finally store the output in output.txt file.\n",
    "# Example:\n",
    "#Input: a file includes two lines:\n",
    "# Python Course\n",
    "# Deep Learning Course \n",
    "# Output:\n",
    "#Python Course\n",
    "# Deep Learning Course \n",
    "#Word_Count:\n",
    "# Python: 1\n",
    "#Course: 2\n",
    "#Deep: 1\n",
    "#Learning: 1\n",
    "\n",
    "wordcount = {}\n",
    "with open(r'input.txt', 'r') as in_file:\n",
    "    in_file2 = in_file.read().splitlines()\n",
    "    for line in in_file2:\n",
    "        var3 = line.split(\" \")\n",
    "        for word in var3:\n",
    "            wordcount[word] = wordcount.get(word, 0) + 1\n",
    "ans = ('\\n'.join(['%s, %s' % (var4, var5) for var4, var5 in wordcount.items()]))\n",
    "print(ans)\n",
    "with open('output.txt', 'w') as out_file:\n",
    "    out_file.writelines(ans)"
   ]
  },
  {
   "cell_type": "code",
   "execution_count": 36,
   "id": "25c988bb",
   "metadata": {},
   "outputs": [
    {
     "name": "stdout",
     "output_type": "stream",
     "text": [
      "Input heights in inches, separated by commas:\n",
      "100,50,60\n",
      "Nested interactive loop\n",
      "[39.0, 19.5, 23.4]\n",
      "List comprehensions\n",
      "[39.0, 19.5, 23.4]\n"
     ]
    }
   ],
   "source": [
    "#3. Write a program, which reads heights (inches.) customers into a list and convert these heights to centimeters in a separate list using:\n",
    "#1) Nested Interactive loop.\n",
    "#2) List comprehensions\n",
    "#Example: L1: [150,155, 145, 148]\n",
    "#Output: [68.03, 70.3, 65.77, 67.13]\n",
    "\n",
    "print(\"Input heights in inches, separated by commas:\")\n",
    "inch_list = input()\n",
    "print(\"Nested interactive loop\")\n",
    "inch_list1 = inch_list[:]\n",
    "cm_list1 = []\n",
    "for height1 in inch_list1.split(','):\n",
    "    height1 = float(\"{:.2f}\".format(float(height1) * 0.39))\n",
    "    cm_list1.append(height1)\n",
    "print(cm_list1)\n",
    "\n",
    "print(\"List comprehensions\")\n",
    "inch_list2 = inch_list[:]\n",
    "cm_list2 = [float(\"{:.2f}\".format(float(height2) * 0.39)) for height2 in inch_list2.split(',')]\n",
    "print(cm_list2)"
   ]
  },
  {
   "cell_type": "code",
   "execution_count": null,
   "id": "2cf1492a",
   "metadata": {},
   "outputs": [],
   "source": []
  }
 ],
 "metadata": {
  "kernelspec": {
   "display_name": "Python 3 (ipykernel)",
   "language": "python",
   "name": "python3"
  },
  "language_info": {
   "codemirror_mode": {
    "name": "ipython",
    "version": 3
   },
   "file_extension": ".py",
   "mimetype": "text/x-python",
   "name": "python",
   "nbconvert_exporter": "python",
   "pygments_lexer": "ipython3",
   "version": "3.9.13"
  }
 },
 "nbformat": 4,
 "nbformat_minor": 5
}
